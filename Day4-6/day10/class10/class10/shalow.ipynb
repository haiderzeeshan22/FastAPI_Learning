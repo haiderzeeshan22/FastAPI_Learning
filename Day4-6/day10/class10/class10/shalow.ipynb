{
 "cells": [
  {
   "cell_type": "code",
   "execution_count": 12,
   "metadata": {},
   "outputs": [
    {
     "name": "stdout",
     "output_type": "stream",
     "text": [
      "3\n",
      "Original:     [1, 2, [3, 4], [6, 99]]\n",
      "Shallow Copy: [1, 2, [3, 4], [6, 99]]\n"
     ]
    }
   ],
   "source": [
    "import copy\n",
    "\n",
    "# Original list with a nested list\n",
    "original = [1, 2, [3, 4],[6,7]]\n",
    "print(original[2][0])\n",
    "# Create a shallow copy\n",
    "shallow_copied = copy.copy(original)\n",
    "\n",
    "# Modify the nested list\n",
    "shallow_copied[3][1] = 99\n",
    "\n",
    "print(\"Original:    \", original)          # Outputs: [1, 2, [99, 4]]\n",
    "print(\"Shallow Copy:\", shallow_copied)  # Outputs: [1, 2, [99, 4]]\n"
   ]
  },
  {
   "cell_type": "code",
   "execution_count": null,
   "metadata": {},
   "outputs": [],
   "source": [
    "from jose import jwt, JWTError\n",
    "from datetime import timedelta, datetime , timezone\n",
    "SECRET_KEY = \"8da748ca15b9802dd460b79eadc17e11bae3a752fc3c4a586bb4d8130025024b\"\n",
    "ALGORITHM = \"HS256\"\n",
    "ACCESS_TOKEN_EXPIRY_MINUTES = 15\n",
    "\n"
   ]
  },
  {
   "cell_type": "code",
   "execution_count": null,
   "metadata": {},
   "outputs": [],
   "source": []
  },
  {
   "cell_type": "code",
   "execution_count": 17,
   "metadata": {},
   "outputs": [],
   "source": [
    "# poetry add python-jose[cryptography]\n",
    "# !pip install python-jose[cryptography]\n"
   ]
  },
  {
   "cell_type": "code",
   "execution_count": null,
   "metadata": {},
   "outputs": [],
   "source": []
  }
 ],
 "metadata": {
  "kernelspec": {
   "display_name": "Python 3",
   "language": "python",
   "name": "python3"
  },
  "language_info": {
   "codemirror_mode": {
    "name": "ipython",
    "version": 3
   },
   "file_extension": ".py",
   "mimetype": "text/x-python",
   "name": "python",
   "nbconvert_exporter": "python",
   "pygments_lexer": "ipython3",
   "version": "3.13.1"
  }
 },
 "nbformat": 4,
 "nbformat_minor": 2
}
